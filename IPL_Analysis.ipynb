{
  "cells": [
    {
      "cell_type": "markdown",
      "metadata": {
        "id": "view-in-github",
        "colab_type": "text"
      },
      "source": [
        "<a href=\"https://colab.research.google.com/github/ganesund/Numpy/blob/main/IPL_Analysis.ipynb\" target=\"_parent\"><img src=\"https://colab.research.google.com/assets/colab-badge.svg\" alt=\"Open In Colab\"/></a>"
      ]
    },
    {
      "cell_type": "code",
      "execution_count": null,
      "metadata": {
        "id": "pJQk-V99QAEh"
      },
      "outputs": [],
      "source": [
        "import numpy as nps\n",
        "import pandas as pd\n",
        "import decimal\n",
        "from datetime import datetime\n",
        "import seaborn as sb\n",
        "from matplotlib import pyplot as plt"
      ]
    },
    {
      "cell_type": "code",
      "source": [
        "from google.colab import drive\n",
        "drive.mount('/content/drive')\n"
      ],
      "metadata": {
        "colab": {
          "base_uri": "https://localhost:8080/"
        },
        "id": "SFgKjkLJRGQ-",
        "outputId": "346abd1b-85a3-41f1-c26f-8c7471681938"
      },
      "execution_count": null,
      "outputs": [
        {
          "output_type": "stream",
          "name": "stdout",
          "text": [
            "Mounted at /content/drive\n"
          ]
        }
      ]
    },
    {
      "cell_type": "code",
      "source": [
        "balls=pd.read_excel('/content/drive/MyDrive/Ball_by_Ball.xlsx')\n",
        "matches=pd.read_excel('/content/drive/MyDrive/Match.xlsx')\n",
        "players=pd.read_excel('/content/drive/MyDrive/Player.xlsx')\n",
        "teams=pd.read_excel('/content/drive/MyDrive/Team.xlsx')"
      ],
      "metadata": {
        "id": "nGxKDGN7QLoJ"
      },
      "execution_count": null,
      "outputs": []
    },
    {
      "cell_type": "markdown",
      "metadata": {
        "id": "E4HoBtTTQAEo"
      },
      "source": [
        "### --------------------------------Task 1--------------------------------#\n",
        "###### Create a dataframe with three columns\n",
        "###### Column 1: Team Names\n",
        "###### Column 2: Total Matches played by each team\n",
        "###### Column 3: Total Matches Won"
      ]
    },
    {
      "cell_type": "code",
      "execution_count": null,
      "metadata": {
        "colab": {
          "base_uri": "https://localhost:8080/",
          "height": 457
        },
        "id": "CBJNk9cyQAEr",
        "outputId": "a06ebc4d-7168-4208-86cf-9406447ccfe6"
      },
      "outputs": [
        {
          "output_type": "execute_result",
          "data": {
            "text/html": [
              "\n",
              "  <div id=\"df-de67d5d3-7c19-4e60-a275-0157e2c9f14b\">\n",
              "    <div class=\"colab-df-container\">\n",
              "      <div>\n",
              "<style scoped>\n",
              "    .dataframe tbody tr th:only-of-type {\n",
              "        vertical-align: middle;\n",
              "    }\n",
              "\n",
              "    .dataframe tbody tr th {\n",
              "        vertical-align: top;\n",
              "    }\n",
              "\n",
              "    .dataframe thead th {\n",
              "        text-align: right;\n",
              "    }\n",
              "</style>\n",
              "<table border=\"1\" class=\"dataframe\">\n",
              "  <thead>\n",
              "    <tr style=\"text-align: right;\">\n",
              "      <th></th>\n",
              "      <th>Team_Name</th>\n",
              "      <th>Total Matches played by each team</th>\n",
              "      <th>Total Matches Won</th>\n",
              "    </tr>\n",
              "  </thead>\n",
              "  <tbody>\n",
              "    <tr>\n",
              "      <th>0</th>\n",
              "      <td>Kolkata Knight Riders</td>\n",
              "      <td>62</td>\n",
              "      <td>37</td>\n",
              "    </tr>\n",
              "    <tr>\n",
              "      <th>1</th>\n",
              "      <td>Royal Challengers Bangalore</td>\n",
              "      <td>78</td>\n",
              "      <td>40</td>\n",
              "    </tr>\n",
              "    <tr>\n",
              "      <th>2</th>\n",
              "      <td>Chennai Super Kings</td>\n",
              "      <td>74</td>\n",
              "      <td>50</td>\n",
              "    </tr>\n",
              "    <tr>\n",
              "      <th>3</th>\n",
              "      <td>Kings XI Punjab</td>\n",
              "      <td>65</td>\n",
              "      <td>31</td>\n",
              "    </tr>\n",
              "    <tr>\n",
              "      <th>4</th>\n",
              "      <td>Rajasthan Royals</td>\n",
              "      <td>52</td>\n",
              "      <td>35</td>\n",
              "    </tr>\n",
              "    <tr>\n",
              "      <th>5</th>\n",
              "      <td>Delhi Daredevils</td>\n",
              "      <td>69</td>\n",
              "      <td>30</td>\n",
              "    </tr>\n",
              "    <tr>\n",
              "      <th>6</th>\n",
              "      <td>Mumbai Indians</td>\n",
              "      <td>62</td>\n",
              "      <td>39</td>\n",
              "    </tr>\n",
              "    <tr>\n",
              "      <th>7</th>\n",
              "      <td>Deccan Chargers</td>\n",
              "      <td>39</td>\n",
              "      <td>13</td>\n",
              "    </tr>\n",
              "    <tr>\n",
              "      <th>8</th>\n",
              "      <td>Kochi Tuskers Kerala</td>\n",
              "      <td>7</td>\n",
              "      <td>3</td>\n",
              "    </tr>\n",
              "    <tr>\n",
              "      <th>9</th>\n",
              "      <td>Pune Warriors</td>\n",
              "      <td>23</td>\n",
              "      <td>6</td>\n",
              "    </tr>\n",
              "    <tr>\n",
              "      <th>10</th>\n",
              "      <td>Sunrisers Hyderabad</td>\n",
              "      <td>30</td>\n",
              "      <td>16</td>\n",
              "    </tr>\n",
              "    <tr>\n",
              "      <th>11</th>\n",
              "      <td>Rising Pune Supergiants</td>\n",
              "      <td>7</td>\n",
              "      <td>2</td>\n",
              "    </tr>\n",
              "    <tr>\n",
              "      <th>12</th>\n",
              "      <td>Gujarat Lions</td>\n",
              "      <td>9</td>\n",
              "      <td>4</td>\n",
              "    </tr>\n",
              "  </tbody>\n",
              "</table>\n",
              "</div>\n",
              "      <button class=\"colab-df-convert\" onclick=\"convertToInteractive('df-de67d5d3-7c19-4e60-a275-0157e2c9f14b')\"\n",
              "              title=\"Convert this dataframe to an interactive table.\"\n",
              "              style=\"display:none;\">\n",
              "        \n",
              "  <svg xmlns=\"http://www.w3.org/2000/svg\" height=\"24px\"viewBox=\"0 0 24 24\"\n",
              "       width=\"24px\">\n",
              "    <path d=\"M0 0h24v24H0V0z\" fill=\"none\"/>\n",
              "    <path d=\"M18.56 5.44l.94 2.06.94-2.06 2.06-.94-2.06-.94-.94-2.06-.94 2.06-2.06.94zm-11 1L8.5 8.5l.94-2.06 2.06-.94-2.06-.94L8.5 2.5l-.94 2.06-2.06.94zm10 10l.94 2.06.94-2.06 2.06-.94-2.06-.94-.94-2.06-.94 2.06-2.06.94z\"/><path d=\"M17.41 7.96l-1.37-1.37c-.4-.4-.92-.59-1.43-.59-.52 0-1.04.2-1.43.59L10.3 9.45l-7.72 7.72c-.78.78-.78 2.05 0 2.83L4 21.41c.39.39.9.59 1.41.59.51 0 1.02-.2 1.41-.59l7.78-7.78 2.81-2.81c.8-.78.8-2.07 0-2.86zM5.41 20L4 18.59l7.72-7.72 1.47 1.35L5.41 20z\"/>\n",
              "  </svg>\n",
              "      </button>\n",
              "      \n",
              "  <style>\n",
              "    .colab-df-container {\n",
              "      display:flex;\n",
              "      flex-wrap:wrap;\n",
              "      gap: 12px;\n",
              "    }\n",
              "\n",
              "    .colab-df-convert {\n",
              "      background-color: #E8F0FE;\n",
              "      border: none;\n",
              "      border-radius: 50%;\n",
              "      cursor: pointer;\n",
              "      display: none;\n",
              "      fill: #1967D2;\n",
              "      height: 32px;\n",
              "      padding: 0 0 0 0;\n",
              "      width: 32px;\n",
              "    }\n",
              "\n",
              "    .colab-df-convert:hover {\n",
              "      background-color: #E2EBFA;\n",
              "      box-shadow: 0px 1px 2px rgba(60, 64, 67, 0.3), 0px 1px 3px 1px rgba(60, 64, 67, 0.15);\n",
              "      fill: #174EA6;\n",
              "    }\n",
              "\n",
              "    [theme=dark] .colab-df-convert {\n",
              "      background-color: #3B4455;\n",
              "      fill: #D2E3FC;\n",
              "    }\n",
              "\n",
              "    [theme=dark] .colab-df-convert:hover {\n",
              "      background-color: #434B5C;\n",
              "      box-shadow: 0px 1px 3px 1px rgba(0, 0, 0, 0.15);\n",
              "      filter: drop-shadow(0px 1px 2px rgba(0, 0, 0, 0.3));\n",
              "      fill: #FFFFFF;\n",
              "    }\n",
              "  </style>\n",
              "\n",
              "      <script>\n",
              "        const buttonEl =\n",
              "          document.querySelector('#df-de67d5d3-7c19-4e60-a275-0157e2c9f14b button.colab-df-convert');\n",
              "        buttonEl.style.display =\n",
              "          google.colab.kernel.accessAllowed ? 'block' : 'none';\n",
              "\n",
              "        async function convertToInteractive(key) {\n",
              "          const element = document.querySelector('#df-de67d5d3-7c19-4e60-a275-0157e2c9f14b');\n",
              "          const dataTable =\n",
              "            await google.colab.kernel.invokeFunction('convertToInteractive',\n",
              "                                                     [key], {});\n",
              "          if (!dataTable) return;\n",
              "\n",
              "          const docLinkHtml = 'Like what you see? Visit the ' +\n",
              "            '<a target=\"_blank\" href=https://colab.research.google.com/notebooks/data_table.ipynb>data table notebook</a>'\n",
              "            + ' to learn more about interactive tables.';\n",
              "          element.innerHTML = '';\n",
              "          dataTable['output_type'] = 'display_data';\n",
              "          await google.colab.output.renderOutput(dataTable, element);\n",
              "          const docLink = document.createElement('div');\n",
              "          docLink.innerHTML = docLinkHtml;\n",
              "          element.appendChild(docLink);\n",
              "        }\n",
              "      </script>\n",
              "    </div>\n",
              "  </div>\n",
              "  "
            ],
            "text/plain": [
              "                      Team_Name  ...  Total Matches Won\n",
              "0         Kolkata Knight Riders  ...                 37\n",
              "1   Royal Challengers Bangalore  ...                 40\n",
              "2           Chennai Super Kings  ...                 50\n",
              "3               Kings XI Punjab  ...                 31\n",
              "4              Rajasthan Royals  ...                 35\n",
              "5              Delhi Daredevils  ...                 30\n",
              "6                Mumbai Indians  ...                 39\n",
              "7               Deccan Chargers  ...                 13\n",
              "8          Kochi Tuskers Kerala  ...                  3\n",
              "9                 Pune Warriors  ...                  6\n",
              "10          Sunrisers Hyderabad  ...                 16\n",
              "11      Rising Pune Supergiants  ...                  2\n",
              "12                Gujarat Lions  ...                  4\n",
              "\n",
              "[13 rows x 3 columns]"
            ]
          },
          "metadata": {},
          "execution_count": 4
        }
      ],
      "source": [
        "totalmatch=matches.groupby('Team_Name_Id').count()\n",
        "matchwon=matches.where(matches['Team_Name_Id']==matches['Match_Winner_Id']).dropna()\n",
        "matchwon=matchwon.groupby('Team_Name_Id').count()\n",
        "teamdata=pd.merge(teams,totalmatch,left_on='Team_Id', right_on='Team_Name_Id',how='inner')\n",
        "teamdata=teamdata[['Team_Id','Team_Name','Match_Id']]\n",
        "teamdata=pd.merge(teamdata,matchwon,left_on='Team_Id', right_on='Team_Name_Id',how='inner')\n",
        "teamdata=teamdata[['Team_Name','Match_Id_x','Match_Id_y']]\n",
        "teamdata.rename(columns={\"Match_Id_x\": \"Total Matches played by each team\", \"Match_Id_y\": \"Total Matches Won\"})\n"
      ]
    },
    {
      "cell_type": "markdown",
      "metadata": {
        "id": "DYMK_Y0GQAEt"
      },
      "source": [
        "### --------------------------- TASK 2 --------------------------------#\n",
        "##### Display the top 10 Runs scorer in the IPL\n",
        "#### Display the top 10 batting performance in term of runs scored in the match"
      ]
    },
    {
      "cell_type": "code",
      "execution_count": null,
      "metadata": {
        "colab": {
          "base_uri": "https://localhost:8080/",
          "height": 363
        },
        "id": "gPWPuIAkQAEu",
        "outputId": "be7af2c9-098d-4e85-dfd7-a894378c2cc4"
      },
      "outputs": [
        {
          "output_type": "execute_result",
          "data": {
            "text/html": [
              "\n",
              "  <div id=\"df-f2c2a5b1-8d31-4e06-87cd-9f9ddb4e8a1b\">\n",
              "    <div class=\"colab-df-container\">\n",
              "      <div>\n",
              "<style scoped>\n",
              "    .dataframe tbody tr th:only-of-type {\n",
              "        vertical-align: middle;\n",
              "    }\n",
              "\n",
              "    .dataframe tbody tr th {\n",
              "        vertical-align: top;\n",
              "    }\n",
              "\n",
              "    .dataframe thead th {\n",
              "        text-align: right;\n",
              "    }\n",
              "</style>\n",
              "<table border=\"1\" class=\"dataframe\">\n",
              "  <thead>\n",
              "    <tr style=\"text-align: right;\">\n",
              "      <th></th>\n",
              "      <th>Player_Name</th>\n",
              "      <th>Batsman_Scored</th>\n",
              "    </tr>\n",
              "  </thead>\n",
              "  <tbody>\n",
              "    <tr>\n",
              "      <th>0</th>\n",
              "      <td>SK Raina</td>\n",
              "      <td>4106</td>\n",
              "    </tr>\n",
              "    <tr>\n",
              "      <th>1</th>\n",
              "      <td>V Kohli</td>\n",
              "      <td>4105</td>\n",
              "    </tr>\n",
              "    <tr>\n",
              "      <th>2</th>\n",
              "      <td>RG Sharma</td>\n",
              "      <td>3874</td>\n",
              "    </tr>\n",
              "    <tr>\n",
              "      <th>3</th>\n",
              "      <td>G Gambhir</td>\n",
              "      <td>3634</td>\n",
              "    </tr>\n",
              "    <tr>\n",
              "      <th>4</th>\n",
              "      <td>CH Gayle</td>\n",
              "      <td>3447</td>\n",
              "    </tr>\n",
              "    <tr>\n",
              "      <th>5</th>\n",
              "      <td>RV Uthappa</td>\n",
              "      <td>3390</td>\n",
              "    </tr>\n",
              "    <tr>\n",
              "      <th>6</th>\n",
              "      <td>DA Warner</td>\n",
              "      <td>3373</td>\n",
              "    </tr>\n",
              "    <tr>\n",
              "      <th>7</th>\n",
              "      <td>AB de Villiers</td>\n",
              "      <td>3270</td>\n",
              "    </tr>\n",
              "    <tr>\n",
              "      <th>8</th>\n",
              "      <td>MS Dhoni</td>\n",
              "      <td>3270</td>\n",
              "    </tr>\n",
              "    <tr>\n",
              "      <th>9</th>\n",
              "      <td>S Dhawan</td>\n",
              "      <td>3082</td>\n",
              "    </tr>\n",
              "  </tbody>\n",
              "</table>\n",
              "</div>\n",
              "      <button class=\"colab-df-convert\" onclick=\"convertToInteractive('df-f2c2a5b1-8d31-4e06-87cd-9f9ddb4e8a1b')\"\n",
              "              title=\"Convert this dataframe to an interactive table.\"\n",
              "              style=\"display:none;\">\n",
              "        \n",
              "  <svg xmlns=\"http://www.w3.org/2000/svg\" height=\"24px\"viewBox=\"0 0 24 24\"\n",
              "       width=\"24px\">\n",
              "    <path d=\"M0 0h24v24H0V0z\" fill=\"none\"/>\n",
              "    <path d=\"M18.56 5.44l.94 2.06.94-2.06 2.06-.94-2.06-.94-.94-2.06-.94 2.06-2.06.94zm-11 1L8.5 8.5l.94-2.06 2.06-.94-2.06-.94L8.5 2.5l-.94 2.06-2.06.94zm10 10l.94 2.06.94-2.06 2.06-.94-2.06-.94-.94-2.06-.94 2.06-2.06.94z\"/><path d=\"M17.41 7.96l-1.37-1.37c-.4-.4-.92-.59-1.43-.59-.52 0-1.04.2-1.43.59L10.3 9.45l-7.72 7.72c-.78.78-.78 2.05 0 2.83L4 21.41c.39.39.9.59 1.41.59.51 0 1.02-.2 1.41-.59l7.78-7.78 2.81-2.81c.8-.78.8-2.07 0-2.86zM5.41 20L4 18.59l7.72-7.72 1.47 1.35L5.41 20z\"/>\n",
              "  </svg>\n",
              "      </button>\n",
              "      \n",
              "  <style>\n",
              "    .colab-df-container {\n",
              "      display:flex;\n",
              "      flex-wrap:wrap;\n",
              "      gap: 12px;\n",
              "    }\n",
              "\n",
              "    .colab-df-convert {\n",
              "      background-color: #E8F0FE;\n",
              "      border: none;\n",
              "      border-radius: 50%;\n",
              "      cursor: pointer;\n",
              "      display: none;\n",
              "      fill: #1967D2;\n",
              "      height: 32px;\n",
              "      padding: 0 0 0 0;\n",
              "      width: 32px;\n",
              "    }\n",
              "\n",
              "    .colab-df-convert:hover {\n",
              "      background-color: #E2EBFA;\n",
              "      box-shadow: 0px 1px 2px rgba(60, 64, 67, 0.3), 0px 1px 3px 1px rgba(60, 64, 67, 0.15);\n",
              "      fill: #174EA6;\n",
              "    }\n",
              "\n",
              "    [theme=dark] .colab-df-convert {\n",
              "      background-color: #3B4455;\n",
              "      fill: #D2E3FC;\n",
              "    }\n",
              "\n",
              "    [theme=dark] .colab-df-convert:hover {\n",
              "      background-color: #434B5C;\n",
              "      box-shadow: 0px 1px 3px 1px rgba(0, 0, 0, 0.15);\n",
              "      filter: drop-shadow(0px 1px 2px rgba(0, 0, 0, 0.3));\n",
              "      fill: #FFFFFF;\n",
              "    }\n",
              "  </style>\n",
              "\n",
              "      <script>\n",
              "        const buttonEl =\n",
              "          document.querySelector('#df-f2c2a5b1-8d31-4e06-87cd-9f9ddb4e8a1b button.colab-df-convert');\n",
              "        buttonEl.style.display =\n",
              "          google.colab.kernel.accessAllowed ? 'block' : 'none';\n",
              "\n",
              "        async function convertToInteractive(key) {\n",
              "          const element = document.querySelector('#df-f2c2a5b1-8d31-4e06-87cd-9f9ddb4e8a1b');\n",
              "          const dataTable =\n",
              "            await google.colab.kernel.invokeFunction('convertToInteractive',\n",
              "                                                     [key], {});\n",
              "          if (!dataTable) return;\n",
              "\n",
              "          const docLinkHtml = 'Like what you see? Visit the ' +\n",
              "            '<a target=\"_blank\" href=https://colab.research.google.com/notebooks/data_table.ipynb>data table notebook</a>'\n",
              "            + ' to learn more about interactive tables.';\n",
              "          element.innerHTML = '';\n",
              "          dataTable['output_type'] = 'display_data';\n",
              "          await google.colab.output.renderOutput(dataTable, element);\n",
              "          const docLink = document.createElement('div');\n",
              "          docLink.innerHTML = docLinkHtml;\n",
              "          element.appendChild(docLink);\n",
              "        }\n",
              "      </script>\n",
              "    </div>\n",
              "  </div>\n",
              "  "
            ],
            "text/plain": [
              "      Player_Name  Batsman_Scored\n",
              "0        SK Raina            4106\n",
              "1         V Kohli            4105\n",
              "2       RG Sharma            3874\n",
              "3       G Gambhir            3634\n",
              "4        CH Gayle            3447\n",
              "5      RV Uthappa            3390\n",
              "6       DA Warner            3373\n",
              "7  AB de Villiers            3270\n",
              "8        MS Dhoni            3270\n",
              "9        S Dhawan            3082"
            ]
          },
          "metadata": {},
          "execution_count": 5
        }
      ],
      "source": [
        "# Top 10 Runs scorer in the IPL\n",
        "batsmanscore=balls.groupby('Striker_Id').sum()\n",
        "batsmanscore=batsmanscore.sort_values(['Batsman_Scored'],ascending=False)\n",
        "toprunscorers=pd.merge(batsmanscore,players,left_on='Striker_Id', right_on='Player_Id',how='inner')\n",
        "toprunscorers[['Player_Name','Batsman_Scored']].head(10)"
      ]
    },
    {
      "cell_type": "code",
      "execution_count": null,
      "metadata": {
        "colab": {
          "base_uri": "https://localhost:8080/",
          "height": 363
        },
        "id": "8leUKW36QAEv",
        "outputId": "a1f0746e-2ecc-4a07-9629-d6893a6fc52f"
      },
      "outputs": [
        {
          "output_type": "execute_result",
          "data": {
            "text/html": [
              "\n",
              "  <div id=\"df-fc1844bb-0e7c-4657-ab85-699adac4ba1f\">\n",
              "    <div class=\"colab-df-container\">\n",
              "      <div>\n",
              "<style scoped>\n",
              "    .dataframe tbody tr th:only-of-type {\n",
              "        vertical-align: middle;\n",
              "    }\n",
              "\n",
              "    .dataframe tbody tr th {\n",
              "        vertical-align: top;\n",
              "    }\n",
              "\n",
              "    .dataframe thead th {\n",
              "        text-align: right;\n",
              "    }\n",
              "</style>\n",
              "<table border=\"1\" class=\"dataframe\">\n",
              "  <thead>\n",
              "    <tr style=\"text-align: right;\">\n",
              "      <th></th>\n",
              "      <th>Player_Name</th>\n",
              "      <th>Batsman_Scored</th>\n",
              "    </tr>\n",
              "  </thead>\n",
              "  <tbody>\n",
              "    <tr>\n",
              "      <th>0</th>\n",
              "      <td>CH Gayle</td>\n",
              "      <td>175</td>\n",
              "    </tr>\n",
              "    <tr>\n",
              "      <th>1</th>\n",
              "      <td>BB McCullum</td>\n",
              "      <td>158</td>\n",
              "    </tr>\n",
              "    <tr>\n",
              "      <th>2</th>\n",
              "      <td>AB de Villiers</td>\n",
              "      <td>133</td>\n",
              "    </tr>\n",
              "    <tr>\n",
              "      <th>3</th>\n",
              "      <td>AB de Villiers</td>\n",
              "      <td>129</td>\n",
              "    </tr>\n",
              "    <tr>\n",
              "      <th>4</th>\n",
              "      <td>CH Gayle</td>\n",
              "      <td>128</td>\n",
              "    </tr>\n",
              "    <tr>\n",
              "      <th>5</th>\n",
              "      <td>M Vijay</td>\n",
              "      <td>127</td>\n",
              "    </tr>\n",
              "    <tr>\n",
              "      <th>6</th>\n",
              "      <td>V Sehwag</td>\n",
              "      <td>122</td>\n",
              "    </tr>\n",
              "    <tr>\n",
              "      <th>7</th>\n",
              "      <td>PC Valthaty</td>\n",
              "      <td>120</td>\n",
              "    </tr>\n",
              "    <tr>\n",
              "      <th>8</th>\n",
              "      <td>V Sehwag</td>\n",
              "      <td>119</td>\n",
              "    </tr>\n",
              "    <tr>\n",
              "      <th>9</th>\n",
              "      <td>CH Gayle</td>\n",
              "      <td>117</td>\n",
              "    </tr>\n",
              "  </tbody>\n",
              "</table>\n",
              "</div>\n",
              "      <button class=\"colab-df-convert\" onclick=\"convertToInteractive('df-fc1844bb-0e7c-4657-ab85-699adac4ba1f')\"\n",
              "              title=\"Convert this dataframe to an interactive table.\"\n",
              "              style=\"display:none;\">\n",
              "        \n",
              "  <svg xmlns=\"http://www.w3.org/2000/svg\" height=\"24px\"viewBox=\"0 0 24 24\"\n",
              "       width=\"24px\">\n",
              "    <path d=\"M0 0h24v24H0V0z\" fill=\"none\"/>\n",
              "    <path d=\"M18.56 5.44l.94 2.06.94-2.06 2.06-.94-2.06-.94-.94-2.06-.94 2.06-2.06.94zm-11 1L8.5 8.5l.94-2.06 2.06-.94-2.06-.94L8.5 2.5l-.94 2.06-2.06.94zm10 10l.94 2.06.94-2.06 2.06-.94-2.06-.94-.94-2.06-.94 2.06-2.06.94z\"/><path d=\"M17.41 7.96l-1.37-1.37c-.4-.4-.92-.59-1.43-.59-.52 0-1.04.2-1.43.59L10.3 9.45l-7.72 7.72c-.78.78-.78 2.05 0 2.83L4 21.41c.39.39.9.59 1.41.59.51 0 1.02-.2 1.41-.59l7.78-7.78 2.81-2.81c.8-.78.8-2.07 0-2.86zM5.41 20L4 18.59l7.72-7.72 1.47 1.35L5.41 20z\"/>\n",
              "  </svg>\n",
              "      </button>\n",
              "      \n",
              "  <style>\n",
              "    .colab-df-container {\n",
              "      display:flex;\n",
              "      flex-wrap:wrap;\n",
              "      gap: 12px;\n",
              "    }\n",
              "\n",
              "    .colab-df-convert {\n",
              "      background-color: #E8F0FE;\n",
              "      border: none;\n",
              "      border-radius: 50%;\n",
              "      cursor: pointer;\n",
              "      display: none;\n",
              "      fill: #1967D2;\n",
              "      height: 32px;\n",
              "      padding: 0 0 0 0;\n",
              "      width: 32px;\n",
              "    }\n",
              "\n",
              "    .colab-df-convert:hover {\n",
              "      background-color: #E2EBFA;\n",
              "      box-shadow: 0px 1px 2px rgba(60, 64, 67, 0.3), 0px 1px 3px 1px rgba(60, 64, 67, 0.15);\n",
              "      fill: #174EA6;\n",
              "    }\n",
              "\n",
              "    [theme=dark] .colab-df-convert {\n",
              "      background-color: #3B4455;\n",
              "      fill: #D2E3FC;\n",
              "    }\n",
              "\n",
              "    [theme=dark] .colab-df-convert:hover {\n",
              "      background-color: #434B5C;\n",
              "      box-shadow: 0px 1px 3px 1px rgba(0, 0, 0, 0.15);\n",
              "      filter: drop-shadow(0px 1px 2px rgba(0, 0, 0, 0.3));\n",
              "      fill: #FFFFFF;\n",
              "    }\n",
              "  </style>\n",
              "\n",
              "      <script>\n",
              "        const buttonEl =\n",
              "          document.querySelector('#df-fc1844bb-0e7c-4657-ab85-699adac4ba1f button.colab-df-convert');\n",
              "        buttonEl.style.display =\n",
              "          google.colab.kernel.accessAllowed ? 'block' : 'none';\n",
              "\n",
              "        async function convertToInteractive(key) {\n",
              "          const element = document.querySelector('#df-fc1844bb-0e7c-4657-ab85-699adac4ba1f');\n",
              "          const dataTable =\n",
              "            await google.colab.kernel.invokeFunction('convertToInteractive',\n",
              "                                                     [key], {});\n",
              "          if (!dataTable) return;\n",
              "\n",
              "          const docLinkHtml = 'Like what you see? Visit the ' +\n",
              "            '<a target=\"_blank\" href=https://colab.research.google.com/notebooks/data_table.ipynb>data table notebook</a>'\n",
              "            + ' to learn more about interactive tables.';\n",
              "          element.innerHTML = '';\n",
              "          dataTable['output_type'] = 'display_data';\n",
              "          await google.colab.output.renderOutput(dataTable, element);\n",
              "          const docLink = document.createElement('div');\n",
              "          docLink.innerHTML = docLinkHtml;\n",
              "          element.appendChild(docLink);\n",
              "        }\n",
              "      </script>\n",
              "    </div>\n",
              "  </div>\n",
              "  "
            ],
            "text/plain": [
              "      Player_Name  Batsman_Scored\n",
              "0        CH Gayle             175\n",
              "1     BB McCullum             158\n",
              "2  AB de Villiers             133\n",
              "3  AB de Villiers             129\n",
              "4        CH Gayle             128\n",
              "5         M Vijay             127\n",
              "6        V Sehwag             122\n",
              "7     PC Valthaty             120\n",
              "8        V Sehwag             119\n",
              "9        CH Gayle             117"
            ]
          },
          "metadata": {},
          "execution_count": 6
        }
      ],
      "source": [
        "#Top 10 batting performance in term of runs scored in the match\n",
        "batsmanscorepermatch=balls.groupby(['Striker_Id','Match_Id']).sum()\n",
        "batsmanscorepermatch=batsmanscorepermatch.sort_values(['Batsman_Scored'],ascending=False)\n",
        "toprunscorerspermatch=pd.merge(batsmanscorepermatch,players,left_on='Striker_Id', right_on='Player_Id',how='left')\n",
        "toprunscorerspermatch[['Player_Name','Batsman_Scored']].head(10)"
      ]
    },
    {
      "cell_type": "markdown",
      "metadata": {
        "id": "7Myu4D9kQAEx"
      },
      "source": [
        "### ----------------------------TASK 3 ----------------------------------#\n",
        "##### Display the Top 10 players interms of high strike rate \n",
        "###### (Note that a player must atleast scored 1000 runs to be in this list)"
      ]
    },
    {
      "cell_type": "code",
      "execution_count": null,
      "metadata": {
        "colab": {
          "base_uri": "https://localhost:8080/",
          "height": 363
        },
        "id": "KLsR8N7XQAEz",
        "outputId": "085b9755-836f-4317-c37a-ed04da0e193b"
      },
      "outputs": [
        {
          "output_type": "execute_result",
          "data": {
            "text/html": [
              "\n",
              "  <div id=\"df-87885af3-3a56-43fe-ae3e-354ff5c52095\">\n",
              "    <div class=\"colab-df-container\">\n",
              "      <div>\n",
              "<style scoped>\n",
              "    .dataframe tbody tr th:only-of-type {\n",
              "        vertical-align: middle;\n",
              "    }\n",
              "\n",
              "    .dataframe tbody tr th {\n",
              "        vertical-align: top;\n",
              "    }\n",
              "\n",
              "    .dataframe thead th {\n",
              "        text-align: right;\n",
              "    }\n",
              "</style>\n",
              "<table border=\"1\" class=\"dataframe\">\n",
              "  <thead>\n",
              "    <tr style=\"text-align: right;\">\n",
              "      <th></th>\n",
              "      <th>Player_Name</th>\n",
              "      <th>strike_rate</th>\n",
              "    </tr>\n",
              "  </thead>\n",
              "  <tbody>\n",
              "    <tr>\n",
              "      <th>0</th>\n",
              "      <td>V Sehwag</td>\n",
              "      <td>148.827059</td>\n",
              "    </tr>\n",
              "    <tr>\n",
              "      <th>1</th>\n",
              "      <td>AB de Villiers</td>\n",
              "      <td>146.571044</td>\n",
              "    </tr>\n",
              "    <tr>\n",
              "      <th>2</th>\n",
              "      <td>CH Gayle</td>\n",
              "      <td>146.059322</td>\n",
              "    </tr>\n",
              "    <tr>\n",
              "      <th>3</th>\n",
              "      <td>YK Pathan</td>\n",
              "      <td>142.293907</td>\n",
              "    </tr>\n",
              "    <tr>\n",
              "      <th>4</th>\n",
              "      <td>KA Pollard</td>\n",
              "      <td>141.956522</td>\n",
              "    </tr>\n",
              "    <tr>\n",
              "      <th>5</th>\n",
              "      <td>DA Miller</td>\n",
              "      <td>140.550807</td>\n",
              "    </tr>\n",
              "    <tr>\n",
              "      <th>6</th>\n",
              "      <td>DA Warner</td>\n",
              "      <td>138.237705</td>\n",
              "    </tr>\n",
              "    <tr>\n",
              "      <th>7</th>\n",
              "      <td>SR Watson</td>\n",
              "      <td>136.597111</td>\n",
              "    </tr>\n",
              "    <tr>\n",
              "      <th>8</th>\n",
              "      <td>MS Dhoni</td>\n",
              "      <td>135.179826</td>\n",
              "    </tr>\n",
              "    <tr>\n",
              "      <th>9</th>\n",
              "      <td>SK Raina</td>\n",
              "      <td>134.226872</td>\n",
              "    </tr>\n",
              "  </tbody>\n",
              "</table>\n",
              "</div>\n",
              "      <button class=\"colab-df-convert\" onclick=\"convertToInteractive('df-87885af3-3a56-43fe-ae3e-354ff5c52095')\"\n",
              "              title=\"Convert this dataframe to an interactive table.\"\n",
              "              style=\"display:none;\">\n",
              "        \n",
              "  <svg xmlns=\"http://www.w3.org/2000/svg\" height=\"24px\"viewBox=\"0 0 24 24\"\n",
              "       width=\"24px\">\n",
              "    <path d=\"M0 0h24v24H0V0z\" fill=\"none\"/>\n",
              "    <path d=\"M18.56 5.44l.94 2.06.94-2.06 2.06-.94-2.06-.94-.94-2.06-.94 2.06-2.06.94zm-11 1L8.5 8.5l.94-2.06 2.06-.94-2.06-.94L8.5 2.5l-.94 2.06-2.06.94zm10 10l.94 2.06.94-2.06 2.06-.94-2.06-.94-.94-2.06-.94 2.06-2.06.94z\"/><path d=\"M17.41 7.96l-1.37-1.37c-.4-.4-.92-.59-1.43-.59-.52 0-1.04.2-1.43.59L10.3 9.45l-7.72 7.72c-.78.78-.78 2.05 0 2.83L4 21.41c.39.39.9.59 1.41.59.51 0 1.02-.2 1.41-.59l7.78-7.78 2.81-2.81c.8-.78.8-2.07 0-2.86zM5.41 20L4 18.59l7.72-7.72 1.47 1.35L5.41 20z\"/>\n",
              "  </svg>\n",
              "      </button>\n",
              "      \n",
              "  <style>\n",
              "    .colab-df-container {\n",
              "      display:flex;\n",
              "      flex-wrap:wrap;\n",
              "      gap: 12px;\n",
              "    }\n",
              "\n",
              "    .colab-df-convert {\n",
              "      background-color: #E8F0FE;\n",
              "      border: none;\n",
              "      border-radius: 50%;\n",
              "      cursor: pointer;\n",
              "      display: none;\n",
              "      fill: #1967D2;\n",
              "      height: 32px;\n",
              "      padding: 0 0 0 0;\n",
              "      width: 32px;\n",
              "    }\n",
              "\n",
              "    .colab-df-convert:hover {\n",
              "      background-color: #E2EBFA;\n",
              "      box-shadow: 0px 1px 2px rgba(60, 64, 67, 0.3), 0px 1px 3px 1px rgba(60, 64, 67, 0.15);\n",
              "      fill: #174EA6;\n",
              "    }\n",
              "\n",
              "    [theme=dark] .colab-df-convert {\n",
              "      background-color: #3B4455;\n",
              "      fill: #D2E3FC;\n",
              "    }\n",
              "\n",
              "    [theme=dark] .colab-df-convert:hover {\n",
              "      background-color: #434B5C;\n",
              "      box-shadow: 0px 1px 3px 1px rgba(0, 0, 0, 0.15);\n",
              "      filter: drop-shadow(0px 1px 2px rgba(0, 0, 0, 0.3));\n",
              "      fill: #FFFFFF;\n",
              "    }\n",
              "  </style>\n",
              "\n",
              "      <script>\n",
              "        const buttonEl =\n",
              "          document.querySelector('#df-87885af3-3a56-43fe-ae3e-354ff5c52095 button.colab-df-convert');\n",
              "        buttonEl.style.display =\n",
              "          google.colab.kernel.accessAllowed ? 'block' : 'none';\n",
              "\n",
              "        async function convertToInteractive(key) {\n",
              "          const element = document.querySelector('#df-87885af3-3a56-43fe-ae3e-354ff5c52095');\n",
              "          const dataTable =\n",
              "            await google.colab.kernel.invokeFunction('convertToInteractive',\n",
              "                                                     [key], {});\n",
              "          if (!dataTable) return;\n",
              "\n",
              "          const docLinkHtml = 'Like what you see? Visit the ' +\n",
              "            '<a target=\"_blank\" href=https://colab.research.google.com/notebooks/data_table.ipynb>data table notebook</a>'\n",
              "            + ' to learn more about interactive tables.';\n",
              "          element.innerHTML = '';\n",
              "          dataTable['output_type'] = 'display_data';\n",
              "          await google.colab.output.renderOutput(dataTable, element);\n",
              "          const docLink = document.createElement('div');\n",
              "          docLink.innerHTML = docLinkHtml;\n",
              "          element.appendChild(docLink);\n",
              "        }\n",
              "      </script>\n",
              "    </div>\n",
              "  </div>\n",
              "  "
            ],
            "text/plain": [
              "      Player_Name  strike_rate\n",
              "0        V Sehwag   148.827059\n",
              "1  AB de Villiers   146.571044\n",
              "2        CH Gayle   146.059322\n",
              "3       YK Pathan   142.293907\n",
              "4      KA Pollard   141.956522\n",
              "5       DA Miller   140.550807\n",
              "6       DA Warner   138.237705\n",
              "7       SR Watson   136.597111\n",
              "8        MS Dhoni   135.179826\n",
              "9        SK Raina   134.226872"
            ]
          },
          "metadata": {},
          "execution_count": 7
        }
      ],
      "source": [
        "# Solution\n",
        "#Strike Rate = (Runs Scored / Balls faced) * 100\n",
        "batsmanscore=balls.groupby('Striker_Id').sum()\n",
        "batsmangrtthousand=batsmanscore.where(batsmanscore['Batsman_Scored']>999).dropna()\n",
        "ballsfaced=balls.groupby('Striker_Id').count()\n",
        "strikerate=pd.merge(batsmangrtthousand,ballsfaced,on='Striker_Id', how='inner')\n",
        "strikerate=strikerate[['Batsman_Scored_x','Batsman_Scored_y']]\n",
        "strikerate['strike_rate']=(strikerate['Batsman_Scored_x']/strikerate['Batsman_Scored_y'])*100\n",
        "strikerate=strikerate.sort_values(['strike_rate'],ascending=False).head(10)\n",
        "strikerate=pd.merge(strikerate,players,left_on='Striker_Id', right_on='Player_Id',how='left')\n",
        "strikerate=strikerate[['Player_Name','strike_rate']]\n",
        "strikerate"
      ]
    },
    {
      "cell_type": "markdown",
      "metadata": {
        "id": "FwKjAENgQAE1"
      },
      "source": [
        "### ----------------------------TASK 4 ----------------------------------#\n",
        "##### Display the Top 10 players interms of wickets taken  "
      ]
    },
    {
      "cell_type": "code",
      "execution_count": null,
      "metadata": {
        "colab": {
          "base_uri": "https://localhost:8080/",
          "height": 363
        },
        "id": "Y6e-xInAQAE2",
        "outputId": "537a4c5c-c84a-498f-bfb7-a208c1d9346f"
      },
      "outputs": [
        {
          "output_type": "execute_result",
          "data": {
            "text/html": [
              "\n",
              "  <div id=\"df-4c6d0c86-ac05-42eb-a35b-42894985923d\">\n",
              "    <div class=\"colab-df-container\">\n",
              "      <div>\n",
              "<style scoped>\n",
              "    .dataframe tbody tr th:only-of-type {\n",
              "        vertical-align: middle;\n",
              "    }\n",
              "\n",
              "    .dataframe tbody tr th {\n",
              "        vertical-align: top;\n",
              "    }\n",
              "\n",
              "    .dataframe thead th {\n",
              "        text-align: right;\n",
              "    }\n",
              "</style>\n",
              "<table border=\"1\" class=\"dataframe\">\n",
              "  <thead>\n",
              "    <tr style=\"text-align: right;\">\n",
              "      <th></th>\n",
              "      <th>Player_Name</th>\n",
              "      <th>Total Wickets</th>\n",
              "    </tr>\n",
              "  </thead>\n",
              "  <tbody>\n",
              "    <tr>\n",
              "      <th>0</th>\n",
              "      <td>SL Malinga</td>\n",
              "      <td>134</td>\n",
              "    </tr>\n",
              "    <tr>\n",
              "      <th>1</th>\n",
              "      <td>Harbhajan Singh</td>\n",
              "      <td>116</td>\n",
              "    </tr>\n",
              "    <tr>\n",
              "      <th>2</th>\n",
              "      <td>A Mishra</td>\n",
              "      <td>107</td>\n",
              "    </tr>\n",
              "    <tr>\n",
              "      <th>3</th>\n",
              "      <td>DJ Bravo</td>\n",
              "      <td>107</td>\n",
              "    </tr>\n",
              "    <tr>\n",
              "      <th>4</th>\n",
              "      <td>PP Chawla</td>\n",
              "      <td>106</td>\n",
              "    </tr>\n",
              "    <tr>\n",
              "      <th>5</th>\n",
              "      <td>A Nehra</td>\n",
              "      <td>92</td>\n",
              "    </tr>\n",
              "    <tr>\n",
              "      <th>6</th>\n",
              "      <td>R Vinay Kumar</td>\n",
              "      <td>90</td>\n",
              "    </tr>\n",
              "    <tr>\n",
              "      <th>7</th>\n",
              "      <td>SR Watson</td>\n",
              "      <td>87</td>\n",
              "    </tr>\n",
              "    <tr>\n",
              "      <th>8</th>\n",
              "      <td>Z Khan</td>\n",
              "      <td>86</td>\n",
              "    </tr>\n",
              "    <tr>\n",
              "      <th>9</th>\n",
              "      <td>R Ashwin</td>\n",
              "      <td>84</td>\n",
              "    </tr>\n",
              "  </tbody>\n",
              "</table>\n",
              "</div>\n",
              "      <button class=\"colab-df-convert\" onclick=\"convertToInteractive('df-4c6d0c86-ac05-42eb-a35b-42894985923d')\"\n",
              "              title=\"Convert this dataframe to an interactive table.\"\n",
              "              style=\"display:none;\">\n",
              "        \n",
              "  <svg xmlns=\"http://www.w3.org/2000/svg\" height=\"24px\"viewBox=\"0 0 24 24\"\n",
              "       width=\"24px\">\n",
              "    <path d=\"M0 0h24v24H0V0z\" fill=\"none\"/>\n",
              "    <path d=\"M18.56 5.44l.94 2.06.94-2.06 2.06-.94-2.06-.94-.94-2.06-.94 2.06-2.06.94zm-11 1L8.5 8.5l.94-2.06 2.06-.94-2.06-.94L8.5 2.5l-.94 2.06-2.06.94zm10 10l.94 2.06.94-2.06 2.06-.94-2.06-.94-.94-2.06-.94 2.06-2.06.94z\"/><path d=\"M17.41 7.96l-1.37-1.37c-.4-.4-.92-.59-1.43-.59-.52 0-1.04.2-1.43.59L10.3 9.45l-7.72 7.72c-.78.78-.78 2.05 0 2.83L4 21.41c.39.39.9.59 1.41.59.51 0 1.02-.2 1.41-.59l7.78-7.78 2.81-2.81c.8-.78.8-2.07 0-2.86zM5.41 20L4 18.59l7.72-7.72 1.47 1.35L5.41 20z\"/>\n",
              "  </svg>\n",
              "      </button>\n",
              "      \n",
              "  <style>\n",
              "    .colab-df-container {\n",
              "      display:flex;\n",
              "      flex-wrap:wrap;\n",
              "      gap: 12px;\n",
              "    }\n",
              "\n",
              "    .colab-df-convert {\n",
              "      background-color: #E8F0FE;\n",
              "      border: none;\n",
              "      border-radius: 50%;\n",
              "      cursor: pointer;\n",
              "      display: none;\n",
              "      fill: #1967D2;\n",
              "      height: 32px;\n",
              "      padding: 0 0 0 0;\n",
              "      width: 32px;\n",
              "    }\n",
              "\n",
              "    .colab-df-convert:hover {\n",
              "      background-color: #E2EBFA;\n",
              "      box-shadow: 0px 1px 2px rgba(60, 64, 67, 0.3), 0px 1px 3px 1px rgba(60, 64, 67, 0.15);\n",
              "      fill: #174EA6;\n",
              "    }\n",
              "\n",
              "    [theme=dark] .colab-df-convert {\n",
              "      background-color: #3B4455;\n",
              "      fill: #D2E3FC;\n",
              "    }\n",
              "\n",
              "    [theme=dark] .colab-df-convert:hover {\n",
              "      background-color: #434B5C;\n",
              "      box-shadow: 0px 1px 3px 1px rgba(0, 0, 0, 0.15);\n",
              "      filter: drop-shadow(0px 1px 2px rgba(0, 0, 0, 0.3));\n",
              "      fill: #FFFFFF;\n",
              "    }\n",
              "  </style>\n",
              "\n",
              "      <script>\n",
              "        const buttonEl =\n",
              "          document.querySelector('#df-4c6d0c86-ac05-42eb-a35b-42894985923d button.colab-df-convert');\n",
              "        buttonEl.style.display =\n",
              "          google.colab.kernel.accessAllowed ? 'block' : 'none';\n",
              "\n",
              "        async function convertToInteractive(key) {\n",
              "          const element = document.querySelector('#df-4c6d0c86-ac05-42eb-a35b-42894985923d');\n",
              "          const dataTable =\n",
              "            await google.colab.kernel.invokeFunction('convertToInteractive',\n",
              "                                                     [key], {});\n",
              "          if (!dataTable) return;\n",
              "\n",
              "          const docLinkHtml = 'Like what you see? Visit the ' +\n",
              "            '<a target=\"_blank\" href=https://colab.research.google.com/notebooks/data_table.ipynb>data table notebook</a>'\n",
              "            + ' to learn more about interactive tables.';\n",
              "          element.innerHTML = '';\n",
              "          dataTable['output_type'] = 'display_data';\n",
              "          await google.colab.output.renderOutput(dataTable, element);\n",
              "          const docLink = document.createElement('div');\n",
              "          docLink.innerHTML = docLinkHtml;\n",
              "          element.appendChild(docLink);\n",
              "        }\n",
              "      </script>\n",
              "    </div>\n",
              "  </div>\n",
              "  "
            ],
            "text/plain": [
              "       Player_Name  Total Wickets\n",
              "0       SL Malinga            134\n",
              "1  Harbhajan Singh            116\n",
              "2         A Mishra            107\n",
              "3         DJ Bravo            107\n",
              "4        PP Chawla            106\n",
              "5          A Nehra             92\n",
              "6    R Vinay Kumar             90\n",
              "7        SR Watson             87\n",
              "8           Z Khan             86\n",
              "9         R Ashwin             84"
            ]
          },
          "metadata": {},
          "execution_count": 8
        }
      ],
      "source": [
        "# Solution\n",
        "bowlerstat=balls.where(balls['Player_dissimal_Id']!=' ').dropna()\n",
        "bowlerstat=bowlerstat.groupby('Bowler_Id').count()\n",
        "bowlerstat=bowlerstat.sort_values(['Player_dissimal_Id'],ascending=False).head(10)\n",
        "bowlerstat=pd.merge(bowlerstat,players,left_on='Bowler_Id', right_on='Player_Id',how='left')\n",
        "bowlerstat=bowlerstat[['Player_Name','Player_dissimal_Id']]\n",
        "bowlerstat.rename(columns={\"Player_dissimal_Id\": \"Total Wickets\"})"
      ]
    },
    {
      "cell_type": "markdown",
      "metadata": {
        "id": "tDEcxcQoQAE2"
      },
      "source": [
        "### ----------------------------TASK 5 ----------------------------------#\n",
        "##### Display the Top 10 players interms of Economic Rate "
      ]
    },
    {
      "cell_type": "code",
      "execution_count": null,
      "metadata": {
        "colab": {
          "base_uri": "https://localhost:8080/",
          "height": 363
        },
        "id": "rv6FUBqQQAE3",
        "outputId": "015b70a8-5b71-4fbd-b073-94f34a2a8c4e"
      },
      "outputs": [
        {
          "output_type": "execute_result",
          "data": {
            "text/html": [
              "\n",
              "  <div id=\"df-9e5e2052-f59d-4025-bf91-67ec45034e23\">\n",
              "    <div class=\"colab-df-container\">\n",
              "      <div>\n",
              "<style scoped>\n",
              "    .dataframe tbody tr th:only-of-type {\n",
              "        vertical-align: middle;\n",
              "    }\n",
              "\n",
              "    .dataframe tbody tr th {\n",
              "        vertical-align: top;\n",
              "    }\n",
              "\n",
              "    .dataframe thead th {\n",
              "        text-align: right;\n",
              "    }\n",
              "</style>\n",
              "<table border=\"1\" class=\"dataframe\">\n",
              "  <thead>\n",
              "    <tr style=\"text-align: right;\">\n",
              "      <th></th>\n",
              "      <th>Player_Name</th>\n",
              "      <th>Economy Rate</th>\n",
              "    </tr>\n",
              "  </thead>\n",
              "  <tbody>\n",
              "    <tr>\n",
              "      <th>0</th>\n",
              "      <td>AC Gilchrist</td>\n",
              "      <td>0.000000</td>\n",
              "    </tr>\n",
              "    <tr>\n",
              "      <th>1</th>\n",
              "      <td>N Rana</td>\n",
              "      <td>3.000000</td>\n",
              "    </tr>\n",
              "    <tr>\n",
              "      <th>2</th>\n",
              "      <td>SS Mundhe</td>\n",
              "      <td>4.285714</td>\n",
              "    </tr>\n",
              "    <tr>\n",
              "      <th>3</th>\n",
              "      <td>LA Carseldine</td>\n",
              "      <td>4.285714</td>\n",
              "    </tr>\n",
              "    <tr>\n",
              "      <th>4</th>\n",
              "      <td>Sachin Baby</td>\n",
              "      <td>4.800000</td>\n",
              "    </tr>\n",
              "    <tr>\n",
              "      <th>5</th>\n",
              "      <td>AM Rahane</td>\n",
              "      <td>5.000000</td>\n",
              "    </tr>\n",
              "    <tr>\n",
              "      <th>6</th>\n",
              "      <td>DJ Thornely</td>\n",
              "      <td>5.181818</td>\n",
              "    </tr>\n",
              "    <tr>\n",
              "      <th>7</th>\n",
              "      <td>SM Harwood</td>\n",
              "      <td>5.462687</td>\n",
              "    </tr>\n",
              "    <tr>\n",
              "      <th>8</th>\n",
              "      <td>Sohail Tanvir</td>\n",
              "      <td>5.569811</td>\n",
              "    </tr>\n",
              "    <tr>\n",
              "      <th>9</th>\n",
              "      <td>FH Edwards</td>\n",
              "      <td>5.760000</td>\n",
              "    </tr>\n",
              "  </tbody>\n",
              "</table>\n",
              "</div>\n",
              "      <button class=\"colab-df-convert\" onclick=\"convertToInteractive('df-9e5e2052-f59d-4025-bf91-67ec45034e23')\"\n",
              "              title=\"Convert this dataframe to an interactive table.\"\n",
              "              style=\"display:none;\">\n",
              "        \n",
              "  <svg xmlns=\"http://www.w3.org/2000/svg\" height=\"24px\"viewBox=\"0 0 24 24\"\n",
              "       width=\"24px\">\n",
              "    <path d=\"M0 0h24v24H0V0z\" fill=\"none\"/>\n",
              "    <path d=\"M18.56 5.44l.94 2.06.94-2.06 2.06-.94-2.06-.94-.94-2.06-.94 2.06-2.06.94zm-11 1L8.5 8.5l.94-2.06 2.06-.94-2.06-.94L8.5 2.5l-.94 2.06-2.06.94zm10 10l.94 2.06.94-2.06 2.06-.94-2.06-.94-.94-2.06-.94 2.06-2.06.94z\"/><path d=\"M17.41 7.96l-1.37-1.37c-.4-.4-.92-.59-1.43-.59-.52 0-1.04.2-1.43.59L10.3 9.45l-7.72 7.72c-.78.78-.78 2.05 0 2.83L4 21.41c.39.39.9.59 1.41.59.51 0 1.02-.2 1.41-.59l7.78-7.78 2.81-2.81c.8-.78.8-2.07 0-2.86zM5.41 20L4 18.59l7.72-7.72 1.47 1.35L5.41 20z\"/>\n",
              "  </svg>\n",
              "      </button>\n",
              "      \n",
              "  <style>\n",
              "    .colab-df-container {\n",
              "      display:flex;\n",
              "      flex-wrap:wrap;\n",
              "      gap: 12px;\n",
              "    }\n",
              "\n",
              "    .colab-df-convert {\n",
              "      background-color: #E8F0FE;\n",
              "      border: none;\n",
              "      border-radius: 50%;\n",
              "      cursor: pointer;\n",
              "      display: none;\n",
              "      fill: #1967D2;\n",
              "      height: 32px;\n",
              "      padding: 0 0 0 0;\n",
              "      width: 32px;\n",
              "    }\n",
              "\n",
              "    .colab-df-convert:hover {\n",
              "      background-color: #E2EBFA;\n",
              "      box-shadow: 0px 1px 2px rgba(60, 64, 67, 0.3), 0px 1px 3px 1px rgba(60, 64, 67, 0.15);\n",
              "      fill: #174EA6;\n",
              "    }\n",
              "\n",
              "    [theme=dark] .colab-df-convert {\n",
              "      background-color: #3B4455;\n",
              "      fill: #D2E3FC;\n",
              "    }\n",
              "\n",
              "    [theme=dark] .colab-df-convert:hover {\n",
              "      background-color: #434B5C;\n",
              "      box-shadow: 0px 1px 3px 1px rgba(0, 0, 0, 0.15);\n",
              "      filter: drop-shadow(0px 1px 2px rgba(0, 0, 0, 0.3));\n",
              "      fill: #FFFFFF;\n",
              "    }\n",
              "  </style>\n",
              "\n",
              "      <script>\n",
              "        const buttonEl =\n",
              "          document.querySelector('#df-9e5e2052-f59d-4025-bf91-67ec45034e23 button.colab-df-convert');\n",
              "        buttonEl.style.display =\n",
              "          google.colab.kernel.accessAllowed ? 'block' : 'none';\n",
              "\n",
              "        async function convertToInteractive(key) {\n",
              "          const element = document.querySelector('#df-9e5e2052-f59d-4025-bf91-67ec45034e23');\n",
              "          const dataTable =\n",
              "            await google.colab.kernel.invokeFunction('convertToInteractive',\n",
              "                                                     [key], {});\n",
              "          if (!dataTable) return;\n",
              "\n",
              "          const docLinkHtml = 'Like what you see? Visit the ' +\n",
              "            '<a target=\"_blank\" href=https://colab.research.google.com/notebooks/data_table.ipynb>data table notebook</a>'\n",
              "            + ' to learn more about interactive tables.';\n",
              "          element.innerHTML = '';\n",
              "          dataTable['output_type'] = 'display_data';\n",
              "          await google.colab.output.renderOutput(dataTable, element);\n",
              "          const docLink = document.createElement('div');\n",
              "          docLink.innerHTML = docLinkHtml;\n",
              "          element.appendChild(docLink);\n",
              "        }\n",
              "      </script>\n",
              "    </div>\n",
              "  </div>\n",
              "  "
            ],
            "text/plain": [
              "     Player_Name  Economy Rate\n",
              "0   AC Gilchrist      0.000000\n",
              "1         N Rana      3.000000\n",
              "2      SS Mundhe      4.285714\n",
              "3  LA Carseldine      4.285714\n",
              "4    Sachin Baby      4.800000\n",
              "5      AM Rahane      5.000000\n",
              "6    DJ Thornely      5.181818\n",
              "7     SM Harwood      5.462687\n",
              "8  Sohail Tanvir      5.569811\n",
              "9     FH Edwards      5.760000"
            ]
          },
          "metadata": {},
          "execution_count": 9
        }
      ],
      "source": [
        "# Solution\n",
        "#Economy Rate = Runs Conceded / Overs\n",
        "bowlerovers=balls.groupby('Bowler_Id').count()\n",
        "bowlerovers['overs']=bowlerovers['Match_Id']/6\n",
        "bowlerruns=balls.groupby('Bowler_Id').sum()\n",
        "strikerate=pd.merge(bowlerruns,bowlerovers,on='Bowler_Id',how='inner')\n",
        "strikerate=strikerate[['overs','Batsman_Scored_x']]\n",
        "strikerate['Economy Rate']= strikerate['Batsman_Scored_x']/strikerate['overs']\n",
        "strikerate=strikerate.sort_values(['Economy Rate'],ascending=True).head(10)\n",
        "strikerate=pd.merge(strikerate,players,left_on='Bowler_Id', right_on='Player_Id',how='left')\n",
        "strikerate[['Player_Name','Economy Rate']]"
      ]
    },
    {
      "cell_type": "markdown",
      "metadata": {
        "id": "m38QJRP3QAE4"
      },
      "source": [
        "### ----------------------------TASK 6 ----------------------------------#\n",
        "#### Is that the CSK is a better team when they bat second ?"
      ]
    },
    {
      "cell_type": "code",
      "execution_count": null,
      "metadata": {
        "colab": {
          "base_uri": "https://localhost:8080/"
        },
        "id": "_iZRVc4fQAE5",
        "outputId": "5df05ef7-b846-482f-a771-272c952ada59"
      },
      "outputs": [
        {
          "output_type": "stream",
          "name": "stdout",
          "text": [
            "No of matches won batting second:  34\n",
            "No of matches won batting first:  45\n",
            "Csk are not a better team when they bat second. They have higher win percentage when the bat first\n"
          ]
        }
      ],
      "source": [
        "# Solution\n",
        "#Fetching only matches with results\n",
        "csk = matches.where(matches['IS_Result']==1 )\n",
        "\n",
        "#merging with Teams to fetch only values of csk\n",
        "cskhome=pd.merge(csk,teams,left_on='Team_Name_Id', right_on='Team_Id',how='inner')\n",
        "cskhome=cskhome.where(cskhome['Team_Short_Code']=='CSK').dropna()\n",
        "\n",
        "#Home matches were toss is won and team chose to bat second\n",
        "cskhometosswin=cskhome[(cskhome['Team_Name_Id']==cskhome['Toss_Winner_Id']) & (cskhome['Toss_Decision']=='field')]\n",
        "\n",
        "#Home matches were toss is lost and team forced to bat second\n",
        "cskhometossloss=cskhome[(cskhome['Team_Name_Id']!=cskhome['Toss_Winner_Id']) & (cskhome['Toss_Decision']=='bat')]\n",
        "\n",
        "#Combining both home matches and check if it matches with the winner\n",
        "cskhome=pd.concat([cskhometosswin,cskhometossloss])\n",
        "cskhome=cskhome[cskhome['Team_Name_Id']==cskhome['Match_Winner_Id']]\n",
        "\n",
        "#merging with Teams to fetch only values of csk\n",
        "cskaway=pd.merge(csk,teams,left_on='Opponent_Team_Id', right_on='Team_Id',how='inner')\n",
        "cskaway=cskaway.where(cskaway['Team_Short_Code']=='CSK').dropna()\n",
        "\n",
        "#Away matches were toss is won and team chose to bat second\n",
        "cskawaytosswin=cskaway[(cskaway['Opponent_Team_Id']==cskaway['Toss_Winner_Id']) & (cskaway['Toss_Decision']=='field')]\n",
        "\n",
        "#Away matches were toss is lost and team forced to bat second\n",
        "cskawaytossloss=cskaway[(cskaway['Opponent_Team_Id']!=cskaway['Toss_Winner_Id']) & (cskaway['Toss_Decision']=='bat')]\n",
        "\n",
        "#Combining both away matches and check if it matches with the winner\n",
        "cskaway=pd.concat([cskawaytosswin,cskawaytossloss])\n",
        "cskaway=cskaway[cskaway['Opponent_Team_Id']==cskaway['Match_Winner_Id']]\n",
        "\n",
        "#combine both home and away\n",
        "cskfinal=pd.concat([cskhome,cskaway])\n",
        "cskfinal=cskfinal[['Team_Name_Id','Opponent_Team_Id','Toss_Winner_Id','Toss_Decision','Match_Winner_Id']]\n",
        "\n",
        "\n",
        "print('No of matches won batting second: ',len(cskfinal))\n",
        "\n",
        "#Fetching only matches with results\n",
        "csk = matches.where(matches['IS_Result']==1 )\n",
        "\n",
        "#merging with Teams to fetch only values of csk\n",
        "cskhome=pd.merge(csk,teams,left_on='Team_Name_Id', right_on='Team_Id',how='inner')\n",
        "cskhome=cskhome.where(cskhome['Team_Short_Code']=='CSK').dropna()\n",
        "\n",
        "#Home matches were toss is won and team chose to bat first\n",
        "cskhometosswin=cskhome[(cskhome['Team_Name_Id']==cskhome['Toss_Winner_Id']) & (cskhome['Toss_Decision']=='bat')]\n",
        "\n",
        "#Home matches were toss is lost and team forced to bat first\n",
        "cskhometossloss=cskhome[(cskhome['Team_Name_Id']!=cskhome['Toss_Winner_Id']) & (cskhome['Toss_Decision']=='field')]\n",
        "\n",
        "#Combining both home matches and check if it matches with the winner\n",
        "cskhome=pd.concat([cskhometosswin,cskhometossloss])\n",
        "cskhome=cskhome[cskhome['Team_Name_Id']==cskhome['Match_Winner_Id']]\n",
        "\n",
        "#merging with Teams to fetch only values of csk\n",
        "cskaway=pd.merge(csk,teams,left_on='Opponent_Team_Id', right_on='Team_Id',how='inner')\n",
        "cskaway=cskaway.where(cskaway['Team_Short_Code']=='CSK').dropna()\n",
        "\n",
        "#Away matches were toss is won and team chose to bat first\n",
        "cskawaytosswin=cskaway[(cskaway['Opponent_Team_Id']==cskaway['Toss_Winner_Id']) & (cskaway['Toss_Decision']=='bat')]\n",
        "\n",
        "#Away matches were toss is lost and team forced to bat first\n",
        "cskawaytossloss=cskaway[(cskaway['Opponent_Team_Id']!=cskaway['Toss_Winner_Id']) & (cskaway['Toss_Decision']=='field')]\n",
        "\n",
        "#Combining both away matches and check if it matches with the winner\n",
        "cskaway=pd.concat([cskawaytosswin,cskawaytossloss])\n",
        "cskaway=cskaway[cskaway['Opponent_Team_Id']==cskaway['Match_Winner_Id']]\n",
        "\n",
        "#combine both home and away\n",
        "cskfinal=pd.concat([cskhome,cskaway])\n",
        "cskfinal=cskfinal[['Team_Name_Id','Opponent_Team_Id','Toss_Winner_Id','Toss_Decision','Match_Winner_Id']]\n",
        "\n",
        "\n",
        "print('No of matches won batting first: ',len(cskfinal))\n",
        "\n",
        "print('Csk are not a better team when they bat second. They have higher win percentage when the bat first')\n"
      ]
    },
    {
      "cell_type": "markdown",
      "metadata": {
        "id": "oa8hDxhIQAE6"
      },
      "source": [
        "### ----------------------------TASK 7 ----------------------------------#\n",
        "##### Is that Kholi is sucessful when he playing at 3 rather than opening the innings ?"
      ]
    },
    {
      "cell_type": "code",
      "execution_count": null,
      "metadata": {
        "colab": {
          "base_uri": "https://localhost:8080/"
        },
        "id": "zuqeoBhAQAE7",
        "outputId": "74790ca0-93cd-4116-a645-9b5d05a2c16d"
      },
      "outputs": [
        {
          "output_type": "stream",
          "name": "stdout",
          "text": [
            "Average Batting Score when Kohli bats at 3 29.896551724137932\n",
            "Average Batting Score when Kohli bats at 1 39.90909090909091\n",
            "Kohli scores more in average when he opens the innings\n"
          ]
        }
      ],
      "source": [
        "#Solution\n",
        "kohli=players[players['Player_Name']=='V Kohli']\n",
        "kohliball=pd.merge(balls,kohli,left_on='Striker_Id',right_on='Player_Id',how='inner')\n",
        "kohliball=kohliball.where(kohliball['Striker_Batting_Position']==3)\n",
        "kohliball=kohliball.groupby('Match_Id').sum()\n",
        "print('Average Batting Score when Kohli bats at 3',kohliball['Batsman_Scored'].sum()/len(kohliball))\n",
        "\n",
        "\n",
        "kohliball=pd.merge(balls,kohli,left_on='Striker_Id',right_on='Player_Id',how='inner')\n",
        "kohliball=kohliball.where(kohliball['Striker_Batting_Position']==1)\n",
        "kohliball=kohliball.groupby('Match_Id').sum()\n",
        "print('Average Batting Score when Kohli bats at 1',kohliball['Batsman_Scored'].sum()/len(kohliball))\n",
        "\n",
        "print('Kohli scores more in average when he opens the innings')"
      ]
    },
    {
      "cell_type": "markdown",
      "metadata": {
        "id": "83pC7DLiQAE8"
      },
      "source": [
        "### ----------------------------TASK 8 ----------------------------------#\n",
        "##### What is the probability of CSK to win a match if Raina score 30+ and Ashwin took 2+ wickets ?\n",
        "#### What is the probability of MI to win a match if Pollard score 30+ and Mallinga took 2+ wickets ?"
      ]
    },
    {
      "cell_type": "code",
      "execution_count": null,
      "metadata": {
        "id": "dyCMOE1SQAE8",
        "colab": {
          "base_uri": "https://localhost:8080/"
        },
        "outputId": "ebce566e-dfff-4c9c-db5c-92978e51a3c0"
      },
      "outputs": [
        {
          "output_type": "stream",
          "name": "stdout",
          "text": [
            "No of matches won by csk:  79\n",
            "No of matches where Raina score 30+ and Ashwin took 2+ wickets:  2\n",
            "No of matches where Raina score 30+ and Ashwin took 2+ wickets and won the match:  2\n",
            "100 % probability that csk wins if Raina score 30+ and Ashwin took 2+ wickets\n"
          ]
        }
      ],
      "source": [
        "# Solution\n",
        "csk=teams.loc[teams['Team_Name'] == 'Chennai Super Kings']\n",
        "csk=pd.merge(csk,matches,left_on='Team_Id',right_on='Match_Winner_Id',how='inner').dropna()\n",
        "print('No of matches won by csk: ',csk['Match_Winner_Id'].count())\n",
        "\n",
        "raina=players.loc[players['Player_Name'] == 'SK Raina']\n",
        "raina=pd.merge(raina,balls,left_on='Player_Id',right_on='Striker_Id',how='inner')\n",
        "raina=raina.groupby('Match_Id').sum()\n",
        "raina=raina.reset_index()\n",
        "raina=raina[['Match_Id','Batsman_Scored']]\n",
        "raina=raina.loc[raina['Batsman_Scored']>30]\n",
        "\n",
        "ashwin=players.loc[players['Player_Name'] == 'R Ashwin']\n",
        "ashwin=pd.merge(ashwin,balls,left_on='Player_Id',right_on='Bowler_Id',how='inner')\n",
        "ashwin=ashwin.loc[ashwin['Player_dissimal_Id']!=' ']\n",
        "ashwin=ashwin.groupby('Match_Id').count()\n",
        "ashwin=ashwin.loc[ashwin['Player_Id']>2]\n",
        "ashwin=ashwin.reset_index()\n",
        "ashwin=ashwin[['Match_Id','Player_Id']]\n",
        "ashwin=ashwin.rename(columns={'Player_Id': 'No of Wickets'})\n",
        "ashwin\n",
        "\n",
        "cskfinal=pd.merge(ashwin,raina,on='Match_Id',how='inner')\n",
        "print('No of matches where Raina score 30+ and Ashwin took 2+ wickets: ',cskfinal['Match_Id'].count())\n",
        "\n",
        "cskfinalfinal=pd.merge(cskfinal,csk,on='Match_Id',how='inner')\n",
        "print('No of matches where Raina score 30+ and Ashwin took 2+ wickets and won the match: ',cskfinal['Match_Id'].count())\n",
        "print('100 % probability that csk wins if Raina score 30+ and Ashwin took 2+ wickets')"
      ]
    },
    {
      "cell_type": "code",
      "source": [
        "mi=teams.loc[teams['Team_Name'] == 'Mumbai Indians']\n",
        "mi=pd.merge(mi,matches,left_on='Team_Id',right_on='Match_Winner_Id',how='inner').dropna()\n",
        "print('No of matches won by mi: ',mi['Match_Winner_Id'].count())\n",
        "\n",
        "raina=players.loc[players['Player_Name'] == 'KA Pollard']\n",
        "raina=pd.merge(raina,balls,left_on='Player_Id',right_on='Striker_Id',how='inner')\n",
        "raina=raina.groupby('Match_Id').sum()\n",
        "raina=raina.reset_index()\n",
        "raina=raina[['Match_Id','Batsman_Scored']]\n",
        "raina=raina.loc[raina['Batsman_Scored']>30]\n",
        "\n",
        "ashwin=players.loc[players['Player_Name'] == 'SL Malinga']\n",
        "ashwin=pd.merge(ashwin,balls,left_on='Player_Id',right_on='Bowler_Id',how='inner')\n",
        "ashwin=ashwin.loc[ashwin['Player_dissimal_Id']!=' ']\n",
        "ashwin=ashwin.groupby('Match_Id').count()\n",
        "ashwin=ashwin.loc[ashwin['Player_Id']>2]\n",
        "ashwin=ashwin.reset_index()\n",
        "ashwin=ashwin[['Match_Id','Player_Id']]\n",
        "ashwin=ashwin.rename(columns={'Player_Id': 'No of Wickets'})\n",
        "ashwin\n",
        "\n",
        "cskfinal=pd.merge(ashwin,raina,on='Match_Id',how='inner')\n",
        "print('No of matches where Pollard score 30+ and Mallinga took 2+ wickets: ',cskfinal['Match_Id'].count())\n",
        "\n",
        "cskfinalfinal=pd.merge(cskfinal,mi,on='Match_Id',how='inner')\n",
        "print('No of matches where Pollard score 30+ and Mallinga took 2+ wickets and won the match: ',cskfinal['Match_Id'].count())\n",
        "print('100 % probability that mi wins if Pollard score 30+ and Mallinga took 2+ wickets')\n",
        "\n"
      ],
      "metadata": {
        "colab": {
          "base_uri": "https://localhost:8080/"
        },
        "id": "PoloLOxjN3dp",
        "outputId": "6bdbdd03-62aa-46b2-8b5d-93373af368a0"
      },
      "execution_count": null,
      "outputs": [
        {
          "output_type": "stream",
          "name": "stdout",
          "text": [
            "No of matches won by mi:  80\n",
            "No of matches where Pollard score 30+ and Mallinga took 2+ wickets:  2\n",
            "No of matches where Pollard score 30+ and Mallinga took 2+ wickets and won the match:  2\n",
            "100 % probability that mi wins if Pollard score 30+ and Mallinga took 2+ wickets\n"
          ]
        }
      ]
    },
    {
      "cell_type": "markdown",
      "metadata": {
        "id": "wsWceCuMQAE9"
      },
      "source": [
        "### ----------------------------TASK 9 ----------------------------------#\n",
        "##### Which team's runs per matches is close to Normal distribution ?"
      ]
    },
    {
      "cell_type": "code",
      "execution_count": null,
      "metadata": {
        "colab": {
          "base_uri": "https://localhost:8080/",
          "height": 1000
        },
        "id": "MLjWz7WWQAE9",
        "outputId": "3f11e5cc-9c3e-47e2-9919-0d04bbdd49bd"
      },
      "outputs": [
        {
          "output_type": "display_data",
          "data": {
            "image/png": "[encoded data removed]",
            "text/plain": [
              "<Figure size 720x432 with 1 Axes>"
            ]
          },
          "metadata": {
            "needs_background": "light"
          }
        },
        {
          "output_type": "display_data",
          "data": {
            "image/png": "[encoded data removed]",
            "text/plain": [
              "<Figure size 720x432 with 1 Axes>"
            ]
          },
          "metadata": {
            "needs_background": "light"
          }
        },
        {
          "output_type": "display_data",
          "data": {
            "image/png": "[encoded data removed]",
            "text/plain": [
              "<Figure size 720x432 with 1 Axes>"
            ]
          },
          "metadata": {
            "needs_background": "light"
          }
        },
        {
          "output_type": "display_data",
          "data": {
            "image/png": "[encoded data removed]",
            "text/plain": [
              "<Figure size 720x432 with 1 Axes>"
            ]
          },
          "metadata": {
            "needs_background": "light"
          }
        },
        {
          "output_type": "display_data",
          "data": {
            "image/png": "[encoded data removed]",
            "text/plain": [
              "<Figure size 720x432 with 1 Axes>"
            ]
          },
          "metadata": {
            "needs_background": "light"
          }
        },
        {
          "output_type": "display_data",
          "data": {
            "image/png": "[encoded data removed]",
            "text/plain": [
              "<Figure size 720x432 with 1 Axes>"
            ]
          },
          "metadata": {
            "needs_background": "light"
          }
        },
        {
          "output_type": "display_data",
          "data": {
            "image/png": "[encoded data removed]",
            "text/plain": [
              "<Figure size 720x432 with 1 Axes>"
            ]
          },
          "metadata": {
            "needs_background": "light"
          }
        },
        {
          "output_type": "display_data",
          "data": {
            "image/png": "[encoded data removed]",
            "text/plain": [
              "<Figure size 720x432 with 1 Axes>"
            ]
          },
          "metadata": {
            "needs_background": "light"
          }
        },
        {
          "output_type": "display_data",
          "data": {
            "image/png": "[encoded data removed]",
            "text/plain": [
              "<Figure size 720x432 with 1 Axes>"
            ]
          },
          "metadata": {
            "needs_background": "light"
          }
        },
        {
          "output_type": "display_data",
          "data": {
            "image/png": "[encoded data removed]",
            "text/plain": [
              "<Figure size 720x432 with 1 Axes>"
            ]
          },
          "metadata": {
            "needs_background": "light"
          }
        },
        {
          "output_type": "display_data",
          "data": {
            "image/png": "[encoded data removed]",
            "text/plain": [
              "<Figure size 720x432 with 1 Axes>"
            ]
          },
          "metadata": {
            "needs_background": "light"
          }
        },
        {
          "output_type": "display_data",
          "data": {
            "image/png": "[encoded data removed]",
            "text/plain": [
              "<Figure size 720x432 with 1 Axes>"
            ]
          },
          "metadata": {
            "needs_background": "light"
          }
        },
        {
          "output_type": "display_data",
          "data": {
            "image/png": "[encoded data removed]",
            "text/plain": [
              "<Figure size 720x432 with 1 Axes>"
            ]
          },
          "metadata": {
            "needs_background": "light"
          }
        }
      ],
      "source": [
        "# Solution\n",
        "for i in range(1,14):\n",
        "    plt.figure(figsize=(10,6))\n",
        "    ballsnorm=balls[balls['Team_Batting_Id']==i]\n",
        "    ballsnorm=pd.merge(ballsnorm,teams,left_on='Team_Batting_Id',right_on='Team_Id',how='inner')\n",
        "    ballsnorm=ballsnorm.groupby(['Team_Name','Match_Id'])['Batsman_Scored'].sum().plot(kind='kde')    \n",
        "\n",
        "\n",
        "\n",
        "\n",
        "\n",
        "\n"
      ]
    },
    {
      "cell_type": "markdown",
      "metadata": {
        "id": "D5L2IvDsQAE-"
      },
      "source": [
        "### ----------------------------TASK 10 ----------------------------------#\n",
        "##### Find the luckiest day for each team interms of win percentage"
      ]
    },
    {
      "cell_type": "code",
      "execution_count": null,
      "metadata": {
        "colab": {
          "base_uri": "https://localhost:8080/"
        },
        "id": "-5r8k_PtQAE-",
        "outputId": "474d45ac-c4d7-40d8-b58b-1d1a4f646120"
      },
      "outputs": [
        {
          "output_type": "execute_result",
          "data": {
            "text/plain": [
              "Team_Name\n",
              "Chennai Super Kings                    (Chennai Super Kings, Saturday)\n",
              "Deccan Chargers                              (Deccan Chargers, Sunday)\n",
              "Delhi Daredevils                          (Delhi Daredevils, Thursday)\n",
              "Gujarat Lions                                (Gujarat Lions, Saturday)\n",
              "Kings XI Punjab                              (Kings XI Punjab, Sunday)\n",
              "Kochi Tuskers Kerala                    (Kochi Tuskers Kerala, Monday)\n",
              "Kolkata Knight Riders                  (Kolkata Knight Riders, Sunday)\n",
              "Mumbai Indians                                (Mumbai Indians, Sunday)\n",
              "Pune Warriors                                  (Pune Warriors, Sunday)\n",
              "Rajasthan Royals                            (Rajasthan Royals, Sunday)\n",
              "Rising Pune Supergiants            (Rising Pune Supergiants, Saturday)\n",
              "Royal Challengers Bangalore    (Royal Challengers Bangalore, Saturday)\n",
              "Sunrisers Hyderabad                      (Sunrisers Hyderabad, Friday)\n",
              "Name: Team_Name_Id, dtype: object"
            ]
          },
          "metadata": {},
          "execution_count": 14
        }
      ],
      "source": [
        "# Solution\n",
        "day=matches\n",
        "day=pd.merge(matches,teams,left_on='Match_Winner_Id',right_on='Team_Id',how='inner').dropna()\n",
        "day['day']=day['Match_Date'].dt.day_name()\n",
        "day=day.where(day['IS_Result']==1)\n",
        "day=day.groupby(['Team_Name','day']).count()\n",
        "day.groupby(level=0).idxmax()['Team_Name_Id']"
      ]
    },
    {
      "cell_type": "markdown",
      "metadata": {
        "id": "dltezszHQAE-"
      },
      "source": [
        "### ----------------------------TASK 11 ----------------------------------# \n",
        "##### Is that runs scored in the power play having the impact on match result ?"
      ]
    },
    {
      "cell_type": "code",
      "source": [
        "ballspower=balls[['Match_Id','Over_Id','Team_Batting_Id','Batsman_Scored']]\n",
        "ballspower=ballspower[(ballspower['Over_Id'] == 1) | (ballspower['Over_Id'] == 2) | (ballspower['Over_Id'] == 3) | (ballspower['Over_Id'] == 4) | (ballspower['Over_Id'] == 5) | (ballspower['Over_Id'] == 6)]\n",
        "ballspower=ballspower[['Match_Id','Team_Batting_Id','Batsman_Scored']]\n",
        "ballswinner=ballspower.groupby(['Match_Id','Team_Batting_Id']).sum()\n",
        "ballswinner=ballswinner.reset_index()\n",
        "ballswinner=pd.merge(ballswinner,matches,left_on=['Match_Id','Team_Batting_Id'],right_on=['Match_Id','Match_Winner_Id'],how='inner').dropna()\n",
        "print ('On an average team''s winning the match score ',ballswinner['Batsman_Scored'].mean(),' runs in the power play')\n",
        "ballswinner[['Match_Id','Team_Batting_Id','Batsman_Scored']].head(5)\n"
      ],
      "metadata": {
        "colab": {
          "base_uri": "https://localhost:8080/",
          "height": 223
        },
        "id": "kh-0WJMvlQBN",
        "outputId": "4253e589-1860-44d1-e36b-d86ce6b6f5b8"
      },
      "execution_count": null,
      "outputs": [
        {
          "output_type": "stream",
          "name": "stdout",
          "text": [
            "On an average teams winning the match score  44.603873239436616  runs in the power play\n"
          ]
        },
        {
          "output_type": "execute_result",
          "data": {
            "text/html": [
              "\n",
              "  <div id=\"df-3b7cd80a-c3bc-4c4d-9da8-fc3ddf647d94\">\n",
              "    <div class=\"colab-df-container\">\n",
              "      <div>\n",
              "<style scoped>\n",
              "    .dataframe tbody tr th:only-of-type {\n",
              "        vertical-align: middle;\n",
              "    }\n",
              "\n",
              "    .dataframe tbody tr th {\n",
              "        vertical-align: top;\n",
              "    }\n",
              "\n",
              "    .dataframe thead th {\n",
              "        text-align: right;\n",
              "    }\n",
              "</style>\n",
              "<table border=\"1\" class=\"dataframe\">\n",
              "  <thead>\n",
              "    <tr style=\"text-align: right;\">\n",
              "      <th></th>\n",
              "      <th>Match_Id</th>\n",
              "      <th>Team_Batting_Id</th>\n",
              "      <th>Batsman_Scored</th>\n",
              "    </tr>\n",
              "  </thead>\n",
              "  <tbody>\n",
              "    <tr>\n",
              "      <th>0</th>\n",
              "      <td>335987</td>\n",
              "      <td>1</td>\n",
              "      <td>51</td>\n",
              "    </tr>\n",
              "    <tr>\n",
              "      <th>1</th>\n",
              "      <td>335988</td>\n",
              "      <td>3</td>\n",
              "      <td>50</td>\n",
              "    </tr>\n",
              "    <tr>\n",
              "      <th>2</th>\n",
              "      <td>335989</td>\n",
              "      <td>6</td>\n",
              "      <td>53</td>\n",
              "    </tr>\n",
              "    <tr>\n",
              "      <th>3</th>\n",
              "      <td>335990</td>\n",
              "      <td>2</td>\n",
              "      <td>39</td>\n",
              "    </tr>\n",
              "    <tr>\n",
              "      <th>4</th>\n",
              "      <td>335991</td>\n",
              "      <td>1</td>\n",
              "      <td>21</td>\n",
              "    </tr>\n",
              "  </tbody>\n",
              "</table>\n",
              "</div>\n",
              "      <button class=\"colab-df-convert\" onclick=\"convertToInteractive('df-3b7cd80a-c3bc-4c4d-9da8-fc3ddf647d94')\"\n",
              "              title=\"Convert this dataframe to an interactive table.\"\n",
              "              style=\"display:none;\">\n",
              "        \n",
              "  <svg xmlns=\"http://www.w3.org/2000/svg\" height=\"24px\"viewBox=\"0 0 24 24\"\n",
              "       width=\"24px\">\n",
              "    <path d=\"M0 0h24v24H0V0z\" fill=\"none\"/>\n",
              "    <path d=\"M18.56 5.44l.94 2.06.94-2.06 2.06-.94-2.06-.94-.94-2.06-.94 2.06-2.06.94zm-11 1L8.5 8.5l.94-2.06 2.06-.94-2.06-.94L8.5 2.5l-.94 2.06-2.06.94zm10 10l.94 2.06.94-2.06 2.06-.94-2.06-.94-.94-2.06-.94 2.06-2.06.94z\"/><path d=\"M17.41 7.96l-1.37-1.37c-.4-.4-.92-.59-1.43-.59-.52 0-1.04.2-1.43.59L10.3 9.45l-7.72 7.72c-.78.78-.78 2.05 0 2.83L4 21.41c.39.39.9.59 1.41.59.51 0 1.02-.2 1.41-.59l7.78-7.78 2.81-2.81c.8-.78.8-2.07 0-2.86zM5.41 20L4 18.59l7.72-7.72 1.47 1.35L5.41 20z\"/>\n",
              "  </svg>\n",
              "      </button>\n",
              "      \n",
              "  <style>\n",
              "    .colab-df-container {\n",
              "      display:flex;\n",
              "      flex-wrap:wrap;\n",
              "      gap: 12px;\n",
              "    }\n",
              "\n",
              "    .colab-df-convert {\n",
              "      background-color: #E8F0FE;\n",
              "      border: none;\n",
              "      border-radius: 50%;\n",
              "      cursor: pointer;\n",
              "      display: none;\n",
              "      fill: #1967D2;\n",
              "      height: 32px;\n",
              "      padding: 0 0 0 0;\n",
              "      width: 32px;\n",
              "    }\n",
              "\n",
              "    .colab-df-convert:hover {\n",
              "      background-color: #E2EBFA;\n",
              "      box-shadow: 0px 1px 2px rgba(60, 64, 67, 0.3), 0px 1px 3px 1px rgba(60, 64, 67, 0.15);\n",
              "      fill: #174EA6;\n",
              "    }\n",
              "\n",
              "    [theme=dark] .colab-df-convert {\n",
              "      background-color: #3B4455;\n",
              "      fill: #D2E3FC;\n",
              "    }\n",
              "\n",
              "    [theme=dark] .colab-df-convert:hover {\n",
              "      background-color: #434B5C;\n",
              "      box-shadow: 0px 1px 3px 1px rgba(0, 0, 0, 0.15);\n",
              "      filter: drop-shadow(0px 1px 2px rgba(0, 0, 0, 0.3));\n",
              "      fill: #FFFFFF;\n",
              "    }\n",
              "  </style>\n",
              "\n",
              "      <script>\n",
              "        const buttonEl =\n",
              "          document.querySelector('#df-3b7cd80a-c3bc-4c4d-9da8-fc3ddf647d94 button.colab-df-convert');\n",
              "        buttonEl.style.display =\n",
              "          google.colab.kernel.accessAllowed ? 'block' : 'none';\n",
              "\n",
              "        async function convertToInteractive(key) {\n",
              "          const element = document.querySelector('#df-3b7cd80a-c3bc-4c4d-9da8-fc3ddf647d94');\n",
              "          const dataTable =\n",
              "            await google.colab.kernel.invokeFunction('convertToInteractive',\n",
              "                                                     [key], {});\n",
              "          if (!dataTable) return;\n",
              "\n",
              "          const docLinkHtml = 'Like what you see? Visit the ' +\n",
              "            '<a target=\"_blank\" href=https://colab.research.google.com/notebooks/data_table.ipynb>data table notebook</a>'\n",
              "            + ' to learn more about interactive tables.';\n",
              "          element.innerHTML = '';\n",
              "          dataTable['output_type'] = 'display_data';\n",
              "          await google.colab.output.renderOutput(dataTable, element);\n",
              "          const docLink = document.createElement('div');\n",
              "          docLink.innerHTML = docLinkHtml;\n",
              "          element.appendChild(docLink);\n",
              "        }\n",
              "      </script>\n",
              "    </div>\n",
              "  </div>\n",
              "  "
            ],
            "text/plain": [
              "   Match_Id  Team_Batting_Id  Batsman_Scored\n",
              "0    335987                1              51\n",
              "1    335988                3              50\n",
              "2    335989                6              53\n",
              "3    335990                2              39\n",
              "4    335991                1              21"
            ]
          },
          "metadata": {},
          "execution_count": 36
        }
      ]
    },
    {
      "cell_type": "code",
      "source": [
        "ballspower=balls[['Match_Id','Over_Id','Team_Batting_Id','Batsman_Scored']]\n",
        "ballspower=ballspower[(ballspower['Over_Id'] == 1) | (ballspower['Over_Id'] == 2) | (ballspower['Over_Id'] == 3) | (ballspower['Over_Id'] == 4) | (ballspower['Over_Id'] == 5) | (ballspower['Over_Id'] == 6)]\n",
        "ballstotal=ballspower.groupby(['Match_Id','Team_Batting_Id']).sum()\n",
        "ballstotal=ballstotal.reset_index()\n",
        "ballstotal=pd.merge(ballstotal,matches,left_on=['Match_Id'],right_on=['Match_Id'],how='inner').dropna()\n",
        "ballstotal=ballstotal[['Match_Id','Team_Batting_Id','Batsman_Scored']]\n",
        "ballswinner=ballswinner[['Match_Id','Team_Batting_Id','Batsman_Scored']]\n",
        "df = ballstotal.drop_duplicates().merge(ballswinner.drop_duplicates(), on=ballswinner.columns.to_list(), \n",
        "                   how='left', indicator=True)\n",
        "ballsloser=df.loc[df._merge=='left_only',df.columns!='_merge']\n",
        "print ('On an average team''s losing the match score ',ballsloser['Batsman_Scored'].mean(),' runs in the power play')\n",
        "ballsloser[['Match_Id','Team_Batting_Id','Batsman_Scored']].head(5)"
      ],
      "metadata": {
        "id": "2r0H_1_0ct3u",
        "colab": {
          "base_uri": "https://localhost:8080/",
          "height": 223
        },
        "outputId": "65e2ae15-4553-4efe-d8a3-e13d2c071ea2"
      },
      "execution_count": null,
      "outputs": [
        {
          "output_type": "stream",
          "name": "stdout",
          "text": [
            "On an average teams losing the match score  38.83362831858407  runs in the power play\n"
          ]
        },
        {
          "output_type": "execute_result",
          "data": {
            "text/html": [
              "\n",
              "  <div id=\"df-fa574288-002a-405b-9902-15159e0085dc\">\n",
              "    <div class=\"colab-df-container\">\n",
              "      <div>\n",
              "<style scoped>\n",
              "    .dataframe tbody tr th:only-of-type {\n",
              "        vertical-align: middle;\n",
              "    }\n",
              "\n",
              "    .dataframe tbody tr th {\n",
              "        vertical-align: top;\n",
              "    }\n",
              "\n",
              "    .dataframe thead th {\n",
              "        text-align: right;\n",
              "    }\n",
              "</style>\n",
              "<table border=\"1\" class=\"dataframe\">\n",
              "  <thead>\n",
              "    <tr style=\"text-align: right;\">\n",
              "      <th></th>\n",
              "      <th>Match_Id</th>\n",
              "      <th>Team_Batting_Id</th>\n",
              "      <th>Batsman_Scored</th>\n",
              "    </tr>\n",
              "  </thead>\n",
              "  <tbody>\n",
              "    <tr>\n",
              "      <th>1</th>\n",
              "      <td>335987</td>\n",
              "      <td>2</td>\n",
              "      <td>19</td>\n",
              "    </tr>\n",
              "    <tr>\n",
              "      <th>3</th>\n",
              "      <td>335988</td>\n",
              "      <td>4</td>\n",
              "      <td>61</td>\n",
              "    </tr>\n",
              "    <tr>\n",
              "      <th>4</th>\n",
              "      <td>335989</td>\n",
              "      <td>5</td>\n",
              "      <td>34</td>\n",
              "    </tr>\n",
              "    <tr>\n",
              "      <th>7</th>\n",
              "      <td>335990</td>\n",
              "      <td>7</td>\n",
              "      <td>41</td>\n",
              "    </tr>\n",
              "    <tr>\n",
              "      <th>9</th>\n",
              "      <td>335991</td>\n",
              "      <td>8</td>\n",
              "      <td>35</td>\n",
              "    </tr>\n",
              "  </tbody>\n",
              "</table>\n",
              "</div>\n",
              "      <button class=\"colab-df-convert\" onclick=\"convertToInteractive('df-fa574288-002a-405b-9902-15159e0085dc')\"\n",
              "              title=\"Convert this dataframe to an interactive table.\"\n",
              "              style=\"display:none;\">\n",
              "        \n",
              "  <svg xmlns=\"http://www.w3.org/2000/svg\" height=\"24px\"viewBox=\"0 0 24 24\"\n",
              "       width=\"24px\">\n",
              "    <path d=\"M0 0h24v24H0V0z\" fill=\"none\"/>\n",
              "    <path d=\"M18.56 5.44l.94 2.06.94-2.06 2.06-.94-2.06-.94-.94-2.06-.94 2.06-2.06.94zm-11 1L8.5 8.5l.94-2.06 2.06-.94-2.06-.94L8.5 2.5l-.94 2.06-2.06.94zm10 10l.94 2.06.94-2.06 2.06-.94-2.06-.94-.94-2.06-.94 2.06-2.06.94z\"/><path d=\"M17.41 7.96l-1.37-1.37c-.4-.4-.92-.59-1.43-.59-.52 0-1.04.2-1.43.59L10.3 9.45l-7.72 7.72c-.78.78-.78 2.05 0 2.83L4 21.41c.39.39.9.59 1.41.59.51 0 1.02-.2 1.41-.59l7.78-7.78 2.81-2.81c.8-.78.8-2.07 0-2.86zM5.41 20L4 18.59l7.72-7.72 1.47 1.35L5.41 20z\"/>\n",
              "  </svg>\n",
              "      </button>\n",
              "      \n",
              "  <style>\n",
              "    .colab-df-container {\n",
              "      display:flex;\n",
              "      flex-wrap:wrap;\n",
              "      gap: 12px;\n",
              "    }\n",
              "\n",
              "    .colab-df-convert {\n",
              "      background-color: #E8F0FE;\n",
              "      border: none;\n",
              "      border-radius: 50%;\n",
              "      cursor: pointer;\n",
              "      display: none;\n",
              "      fill: #1967D2;\n",
              "      height: 32px;\n",
              "      padding: 0 0 0 0;\n",
              "      width: 32px;\n",
              "    }\n",
              "\n",
              "    .colab-df-convert:hover {\n",
              "      background-color: #E2EBFA;\n",
              "      box-shadow: 0px 1px 2px rgba(60, 64, 67, 0.3), 0px 1px 3px 1px rgba(60, 64, 67, 0.15);\n",
              "      fill: #174EA6;\n",
              "    }\n",
              "\n",
              "    [theme=dark] .colab-df-convert {\n",
              "      background-color: #3B4455;\n",
              "      fill: #D2E3FC;\n",
              "    }\n",
              "\n",
              "    [theme=dark] .colab-df-convert:hover {\n",
              "      background-color: #434B5C;\n",
              "      box-shadow: 0px 1px 3px 1px rgba(0, 0, 0, 0.15);\n",
              "      filter: drop-shadow(0px 1px 2px rgba(0, 0, 0, 0.3));\n",
              "      fill: #FFFFFF;\n",
              "    }\n",
              "  </style>\n",
              "\n",
              "      <script>\n",
              "        const buttonEl =\n",
              "          document.querySelector('#df-fa574288-002a-405b-9902-15159e0085dc button.colab-df-convert');\n",
              "        buttonEl.style.display =\n",
              "          google.colab.kernel.accessAllowed ? 'block' : 'none';\n",
              "\n",
              "        async function convertToInteractive(key) {\n",
              "          const element = document.querySelector('#df-fa574288-002a-405b-9902-15159e0085dc');\n",
              "          const dataTable =\n",
              "            await google.colab.kernel.invokeFunction('convertToInteractive',\n",
              "                                                     [key], {});\n",
              "          if (!dataTable) return;\n",
              "\n",
              "          const docLinkHtml = 'Like what you see? Visit the ' +\n",
              "            '<a target=\"_blank\" href=https://colab.research.google.com/notebooks/data_table.ipynb>data table notebook</a>'\n",
              "            + ' to learn more about interactive tables.';\n",
              "          element.innerHTML = '';\n",
              "          dataTable['output_type'] = 'display_data';\n",
              "          await google.colab.output.renderOutput(dataTable, element);\n",
              "          const docLink = document.createElement('div');\n",
              "          docLink.innerHTML = docLinkHtml;\n",
              "          element.appendChild(docLink);\n",
              "        }\n",
              "      </script>\n",
              "    </div>\n",
              "  </div>\n",
              "  "
            ],
            "text/plain": [
              "   Match_Id  Team_Batting_Id  Batsman_Scored\n",
              "1    335987                2              19\n",
              "3    335988                4              61\n",
              "4    335989                5              34\n",
              "7    335990                7              41\n",
              "9    335991                8              35"
            ]
          },
          "metadata": {},
          "execution_count": 37
        }
      ]
    },
    {
      "cell_type": "markdown",
      "source": [
        "### Business Inference\n",
        " As we can see, winning team average 44 runs while the losing team average around 38 runs in the power play. Hence we can say runs scored in powerplay impact the result of the match."
      ],
      "metadata": {
        "id": "AIx8Rt0R8mmc"
      }
    },
    {
      "cell_type": "markdown",
      "metadata": {
        "id": "tLV0IX7EQAE_"
      },
      "source": [
        "### ----------------------------TASK 12 ----------------------------------# \n",
        "##### Is that economic rate of the bowler have an impact on their wicket taking ability ? "
      ]
    },
    {
      "cell_type": "code",
      "execution_count": null,
      "metadata": {
        "colab": {
          "base_uri": "https://localhost:8080/",
          "height": 282
        },
        "id": "jQWK9sA6QAE_",
        "outputId": "832a3833-b6e9-4ca5-9df0-75621e9bcd0c"
      },
      "outputs": [
        {
          "output_type": "display_data",
          "data": {
            "image/png": "[encoded data removed]",
            "text/plain": [
              "<Figure size 432x288 with 1 Axes>"
            ]
          },
          "metadata": {
            "needs_background": "light"
          }
        }
      ],
      "source": [
        "# Solution\n",
        "bowlerovers=balls.groupby('Bowler_Id').count()\n",
        "bowlerovers['overs']=bowlerovers['Match_Id']/6\n",
        "bowlerruns=balls.groupby('Bowler_Id').sum()\n",
        "strikerate=pd.merge(bowlerruns,bowlerovers,on='Bowler_Id',how='inner')\n",
        "strikerate=strikerate[['overs','Batsman_Scored_x']]\n",
        "strikerate['Economy Rate']= strikerate['Batsman_Scored_x']/strikerate['overs']\n",
        "strikerate=strikerate[['Economy Rate']]\n",
        "\n",
        "wickets=balls.where(balls['Dissimal_Type']!=' ')\n",
        "wickets=wickets.groupby('Bowler_Id').count()\n",
        "wickets=wickets['Match_Id']\n",
        "\n",
        "final=pd.merge(strikerate,wickets,on='Bowler_Id',how='inner').dropna()\n",
        "final.rename(columns={'Match_Id': 'No of Wickets'})\n",
        "\n",
        "finalproper=pd.merge(players,final,left_on='Player_Id',right_on='Bowler_Id',how='inner')\n",
        "finalproper.head(5)\n",
        "\n",
        "finalproper=finalproper.drop(['Player_Id','DOB','Batting_Hand','Bowling_Skill','Country','Is_Umpire','Unnamed: 7'],axis=1)\n",
        "finalproper=finalproper.rename(columns={'Match_Id': 'No of Wickets'})\n",
        "\n",
        "plt.scatter(finalproper['Economy Rate'],finalproper['No of Wickets'])  \n",
        "plt.xlabel(\"Economy Rate\")\n",
        "plt.ylabel(\"No of Wickets\")\n",
        "\n",
        "plt.show()"
      ]
    },
    {
      "cell_type": "markdown",
      "source": [
        "No correlation between two factors.Lower the economy rate does not necesarily imply higher wickets. The best wicket takers on an average have economy rate between 6 and 8"
      ],
      "metadata": {
        "id": "_EaQrugqZSlT"
      }
    }
  ],
  "metadata": {
    "kernelspec": {
      "display_name": "Python 3",
      "language": "python",
      "name": "python3"
    },
    "language_info": {
      "codemirror_mode": {
        "name": "ipython",
        "version": 3
      },
      "file_extension": ".py",
      "mimetype": "text/x-python",
      "name": "python",
      "nbconvert_exporter": "python",
      "pygments_lexer": "ipython3",
      "version": "3.8.8"
    },
    "colab": {
      "name": "IPL Analysis.ipynb",
      "provenance": [],
      "include_colab_link": true
    }
  },
  "nbformat": 4,
  "nbformat_minor": 0
}